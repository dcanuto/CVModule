{
 "cells": [
  {
   "cell_type": "markdown",
   "metadata": {},
   "source": [
    "# Run Simulation"
   ]
  },
  {
   "cell_type": "code",
   "execution_count": null,
   "metadata": {
    "scrolled": true
   },
   "outputs": [],
   "source": [
    "include(\"vascularmain.jl\")                      #Inclues all the functions of the simulation\n",
    "\n",
    "\n",
    "println(\"Do you want load a previous simulation? Type yes or no and press enter.\")\n",
    "rstflag = string(readline(STDIN))\n",
    "if rstflag == \"yes\"\n",
    "    println(\"Type the name of your load file and press enter.\")\n",
    "    loadfile = string(readline(STDIN));\n",
    "elseif rstflag == \"no\"\n",
    "    loadfile = \"arterytree.csv\"; # default artery data file for new simulation\n",
    "else\n",
    "    warn(\"Restart option must be set to yes or no. Defaulting to no.\")\n",
    "    rstflag = \"no\"\n",
    "    loadfile = \"arterytree.csv\"\n",
    "end\n",
    "#    if string(readline(STDIN)) == \"yes\"\n",
    "# end\n",
    "#sys,n,t=main(hemoflag,rstflag,filename);                                 #This is the command that runs simulation of the functions in vascularmain.jlend\n",
    "\n",
    "println( \"Do you want to simulate a hemorrhage? Type yes or no and press enter. \")\n",
    "hemoflag = string(readline(STDIN))\n",
    "println(\"Would you like to save this simulation to a .mat file? Type yes or no and press enter.\")\n",
    "saveflag = string(readline(STDIN))\n",
    "\n",
    "\n",
    "if saveflag == \"yes\"\n",
    "    println(\"Name your file and add a .mat at the end of it and press enter.\")\n",
    "    savefile = string(readline(STDIN))\n",
    "    sys,n,t=main(hemoflag,rstflag,loadfile,saveflag,savefile)\n",
    "elseif saveflag == \"no\"\n",
    "    sys,n,t=main(hemoflag,rstflag,loadfile,saveflag)\n",
    "else\n",
    "    warn(\"Save option must be set to yes or no. Defaulting to no.\")\n",
    "    saveflag = \"no\"\n",
    "    sys,n,t=main(hemoflag,rstflag,loadfile,saveflag)\n",
    "end\n",
    "\n",
    "\n",
    "#sys,n,t=main( hemoflag );\n",
    "# using Plots              r                       #This is the command that calls the Plots package which gives a graphical representation of what is happening\n",
    "\n",
    "# x = sys.t; y = sys.branches.P[61][1,:];         #Delcares the variables that we are interested in, time and pressure within the left brachial artery\n",
    "\n",
    "# if rstflag == \"yes\"\n",
    "#     loadfile = string(readline(STDIN));\n",
    "# elseif rstflag == \"no\"\n",
    "#     loadfile = \"arterytree.csv\"; # default artery data file for new simulation\n",
    "# end\n",
    "#    if string(readline(STDIN)) == \"yes\"\n",
    " \n",
    "#    end\n",
    "#     return sys,n,t\n",
    "# end\n",
    "# system,numsteps,timer=brandnew(bleeding)"
   ]
  },
  {
   "cell_type": "markdown",
   "metadata": {},
   "source": [
    "# Plot Outputs"
   ]
  },
  {
   "cell_type": "code",
   "execution_count": null,
   "metadata": {},
   "outputs": [],
   "source": [
    "#plot(x,y)"
   ]
  },
  {
   "cell_type": "markdown",
   "metadata": {},
   "source": [
    "# User Input"
   ]
  },
  {
   "cell_type": "code",
   "execution_count": null,
   "metadata": {},
   "outputs": [],
   "source": []
  }
 ],
 "metadata": {
  "kernelspec": {
   "display_name": "Julia 0.6.3",
   "language": "julia",
   "name": "julia-0.6"
  },
  "language_info": {
   "file_extension": ".jl",
   "mimetype": "application/julia",
   "name": "julia",
   "version": "0.6.3"
  }
 },
 "nbformat": 4,
 "nbformat_minor": 2
}
