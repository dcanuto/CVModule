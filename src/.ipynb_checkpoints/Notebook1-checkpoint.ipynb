{
 "cells": [
  {
   "cell_type": "markdown",
   "metadata": {},
   "source": [
    "# Welcome to the Human Cardiovascular System Simulator!\n",
    "\n",
    "# Below is the Artery Model, the Simulator options, and the plot option for artery data.\n",
    "\n",
    "# To use the simulator, simply click on the cell containing the code for the simulation under the \"Run Simulation\" heading and press \"Run\" in the tool bar.\n",
    "\n",
    "# To use the plot option, simply click on the containing the code for the plot option under the \"Plot Outputs\" heading and press \"Run\" in the tool bar."
   ]
  },
  {
   "cell_type": "markdown",
   "metadata": {},
   "source": [
    "# Artery Model"
   ]
  },
  {
   "cell_type": "markdown",
   "metadata": {},
   "source": [
    "# ![](stickman2.png)  "
   ]
  },
  {
   "cell_type": "markdown",
   "metadata": {},
   "source": [
    "# Run Simulation"
   ]
  },
  {
   "cell_type": "code",
   "execution_count": null,
   "metadata": {
    "scrolled": true
   },
   "outputs": [],
   "source": [
    "include(\"vascularmain.jl\")                      #Inclues all the functions of the simulation\n",
    "\n",
    "println(\"Do you want load a previous simulation? Type yes or no and press enter.\")\n",
    "rstflag = string(readline(STDIN))\n",
    "if rstflag == \"yes\"\n",
    "    println(\"Type the name of your load file and press enter.\")\n",
    "    loadfile = string(readline(STDIN)); #User has to input the name of a saved file in src\n",
    "elseif rstflag == \"no\"\n",
    "    loadfile = \"arterytree.csv\"; # default artery data file for new simulation\n",
    "# else\n",
    "#     warn(\"Restart option must be set to yes or no. Defaulting to no.\")    #In case the user enters something other than \"yes\" or \"no\" this will automatically set rstflag to \"no\"\n",
    "#     rstflag = \"no\"\n",
    "#     loadfile = \"arterytree.csv\"\n",
    "end\n",
    "\n",
    "println( \"Do you want to simulate a hemorrhage? Type yes or no and press enter. \")\n",
    "hemoflag = string(readline(STDIN))   #Accepts user input of \"yes\" or \"no\" in order to simulate a hemorrhage\n",
    "\n",
    "println(\"Type an integer value of heartbeats you would like to simulate.\")\n",
    "numcycles = parse(Int64,readline(STDIN)) #Allows the user to enter the number of heartbeats that they would like to simulate\n",
    "println(\"Simulation set to run for $(numcycles) heartbeats.\")\n",
    "\n",
    "println(\"Which artery would you like to simulate a hemorrhage? Type a number between 1-91, refer to the image for each artery.\")\n",
    "selector = parse(Int64,readline(STDIN))\n",
    "if selector < 1\n",
    "    warn(\"Cannot choose an integer less than 1, please select a value between 1-91.\")\n",
    "    selector = parse(Int64,readline(STDIN))\n",
    "elseif selector > 91\n",
    "    warn(\"Cannot choose an integer greater than 91, please select a value between 1-91.\")\n",
    "    selector = parse(Int64,readline(STDIN))\n",
    "end\n",
    "\n",
    "println(\"Would you like to save this simulation to a .mat file? Type yes or no and press enter.\")\n",
    "saveflag = string(readline(STDIN)) #Allows user to save a simulation or not.\n",
    "\n",
    "if saveflag == \"yes\"\n",
    "    println(\"Name your file and add a .mat at the end of it and press enter.\")\n",
    "    savefile = string(readline(STDIN)) #user has to enter a name for which they would like to save a file as but must add .mat to its end\n",
    "    println(\"All inputs have been selected, simulation starting.\")\n",
    "    sys,n,t=main(hemoflag,rstflag,loadfile,saveflag,numcycles,selector,savefile) #This is the function call to the definitions in vascularmain.jl\n",
    "elseif saveflag == \"no\"\n",
    "    println(\"All inputs have been selected, simulation starting.\")\n",
    "    sys,n,t=main(hemoflag,rstflag,loadfile,saveflag,numcycles,selector)\n",
    "else\n",
    "    warn(\"Save option must be set to yes or no. Defaulting to no.\")\n",
    "    saveflag = \"no\"\n",
    "    println(\"All inputs have been selected, simulation starting.\")\n",
    "    sys,n,t=main(hemoflag,rstflag,loadfile,saveflag,numcycles,selector)\n",
    "end\n",
    "\n",
    "using Plots                                  #This is the command that calls the Plots package which gives a graphical representation of what is happening\n",
    "\n",
    "x = sys.t; y = sys.branches.P[61][1,:];         #Delcares the variables that we are interested in, time and pressure within the left brachial artery\n"
   ]
  },
  {
   "cell_type": "markdown",
   "metadata": {},
   "source": [
    "# Plot Outputs"
   ]
  },
  {
   "cell_type": "code",
   "execution_count": null,
   "metadata": {},
   "outputs": [],
   "source": [
    "include(\"vascularmain.jl\")\n",
    "using Plots\n",
    "struct sys::Float64\n",
    "end\n",
    "\n",
    "println(\"Choose an artery you would like to see hemorrhage data for.\")\n",
    "x = sys.t; y = sys.branches.P[61][1,:];\n",
    "# y = sys.heart.lv.P[:]; rv, la, ra \n",
    "plot(x,y)"
   ]
  },
  {
   "cell_type": "code",
   "execution_count": null,
   "metadata": {},
   "outputs": [],
   "source": [
    "Pkg.rm(\"Widgets.jl\")"
   ]
  },
  {
   "cell_type": "code",
   "execution_count": null,
   "metadata": {
    "scrolled": true
   },
   "outputs": [],
   "source": [
    "using Observables\n",
    "using Widgets\n",
    "using InteractUIkit\n",
    "\n",
    "\n",
    "ui = button()\n",
    "display(ui)\n",
    "obs = Widgets.observe(ui)\n",
    "println(typeof(ui))\n",
    "println(typeof(obs))\n",
    "println(obs[])\n"
   ]
  },
  {
   "cell_type": "code",
   "execution_count": null,
   "metadata": {},
   "outputs": [],
   "source": [
    "using Reactive, Interact\n",
    "\n",
    "a = dropdown([\"select\", \"yes\", \"no\"])"
   ]
  },
  {
   "cell_type": "code",
   "execution_count": null,
   "metadata": {},
   "outputs": [],
   "source": [
    "using Reactive, Interact\n",
    "\n",
    "\n",
    "a = dropdown([\"yes\", \"no\"], label = \"bird up\")\n",
    "display(a)\n",
    "\n",
    "if \n",
    "\n"
   ]
  },
  {
   "cell_type": "code",
   "execution_count": null,
   "metadata": {},
   "outputs": [],
   "source": [
    "if value == \"no\"\n",
    "    value = \"no\"\n",
    "    println(\"you did it!\")\n",
    "end"
   ]
  },
  {
   "cell_type": "code",
   "execution_count": null,
   "metadata": {},
   "outputs": [
    {
     "data": {
      "application/vnd.jupyter.widget-view+json": {
       "model_id": "b071808f-1095-41e8-bee3-9144dfafd7b0",
       "version_major": 2,
       "version_minor": 0
      }
     },
     "metadata": {},
     "output_type": "display_data"
    },
    {
     "data": {
      "text/html": [],
      "text/plain": [
       "Interact.Textarea{String}(11: \"input-6\" = Your very own $\\LaTeX$ editor String , \"\", \"Your very own \\$\\\\LaTeX\\$ editor\")"
      ]
     },
     "metadata": {},
     "output_type": "display_data"
    },
    {
     "data": {
      "application/vnd.jupyter.widget-view+json": {
       "model_id": "25716c12-a33c-4315-84f1-97689b1cb019",
       "version_major": 2,
       "version_minor": 0
      }
     },
     "metadata": {},
     "output_type": "display_data"
    },
    {
     "data": {
      "text/html": [],
      "text/plain": [
       "Interact.Options{:ToggleButtons,Bool}(12: \"input-7\" = false Bool , \"Hemorrhage\", false, \"off\", 1, Interact.OptionDict(DataStructures.OrderedDict(\"off\"=>false,\"on\"=>true), Dict(false=>\"off\",true=>\"on\")), Any[], Any[], true, \"horizontal\", true)"
      ]
     },
     "metadata": {},
     "output_type": "display_data"
    },
    {
     "name": "stdout",
     "output_type": "stream",
     "text": [
      "que lastima\n"
     ]
    }
   ],
   "source": [
    "using Reactive, Interact\n",
    "\n",
    "tex = textarea(\"Your very own \\$\\\\LaTeX\\$ editor\")\n",
    "display(tex)\n",
    "\n",
    "# s = widget([\"on\",\"off\"])\n",
    "# display(s)\n",
    "hemoflag = true;\n",
    "\n",
    "@manipulate for Hemorrhage = Dict(\"on\" => true,\"off\" => false)\n",
    "    if Hemorrhage == true\n",
    "        println(\"stop\")\n",
    "        hemoflag == true\n",
    "    elseif Hemorrhage == false\n",
    "        println(\"que lastima\")\n",
    "        hemoflag == false\n",
    "    end\n",
    "#     if Done == true\n",
    "#         break\n",
    "#     end\n",
    "end\n",
    "\n",
    "readline(STDIN)\n",
    "\n",
    "println(\"All options selected. Hemorrhage = $hemoflag.\")\n"
   ]
  },
  {
   "cell_type": "code",
   "execution_count": null,
   "metadata": {},
   "outputs": [],
   "source": [
    "a = dropdown([\"one\", \"two\", \"three\"])\n",
    "display(a)\n",
    "\n",
    "\n",
    "if value(signal(a)) == \"one\"\n",
    "    println(\"test\")\n",
    "elseif value(signal(a)) == \"two\"\n",
    "    println(\"testing\")\n",
    "    else value(signal(a)) == \"three\"\n",
    "    println(\"still testing\")\n",
    "end"
   ]
  },
  {
   "cell_type": "code",
   "execution_count": null,
   "metadata": {},
   "outputs": [],
   "source": []
  }
 ],
 "metadata": {
  "kernelspec": {
   "display_name": "Julia 0.6.3",
   "language": "julia",
   "name": "julia-0.6"
  },
  "language_info": {
   "file_extension": ".jl",
   "mimetype": "application/julia",
   "name": "julia",
   "version": "0.6.3"
  }
 },
 "nbformat": 4,
 "nbformat_minor": 2
}
