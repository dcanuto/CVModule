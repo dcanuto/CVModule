{
 "cells": [
  {
   "cell_type": "markdown",
   "metadata": {},
   "source": [
    "# Welcome to the Human Cardiovascular System Simulator!\n",
    "\n",
    "# Below is the Artery Model, the Simulator options, and the plot option for artery data.\n",
    "\n",
    "# To use the simulator, simply click on the cell containing the code for the simulation under the \"Run Simulation\" heading and press \"Run\" in the tool bar.\n",
    "\n",
    "# To use the plot option, simply click on the containing the code for the plot option under the \"Plot Outputs\" heading and press \"Run\" in the tool bar."
   ]
  },
  {
   "cell_type": "markdown",
   "metadata": {},
   "source": [
    "# Artery Model"
   ]
  },
  {
   "cell_type": "markdown",
   "metadata": {},
   "source": [
    "# ![](stickman2.png)  "
   ]
  },
  {
   "cell_type": "markdown",
   "metadata": {},
   "source": [
    "# Run Simulation"
   ]
  },
  {
   "cell_type": "code",
   "execution_count": 1,
   "metadata": {
    "scrolled": true
   },
   "outputs": [
    {
     "data": {
      "text/html": [
       "<div id=\"interact-js-shim\">\n",
       "    <script charset=\"utf-8\">\n",
       "(function (IPython, $, _, MathJax) {\n",
       "    $.event.special.destroyed = {\n",
       "\tremove: function(o) {\n",
       "\t    if (o.handler) {\n",
       "\t\to.handler.apply(this, arguments)\n",
       "\t    }\n",
       "\t}\n",
       "    }\n",
       "\n",
       "    var OutputArea = IPython.version >= \"4.0.0\" ? require(\"notebook/js/outputarea\").OutputArea : IPython.OutputArea;\n",
       "\n",
       "    var redrawValue = function (container, type, val) {\n",
       "\tvar selector = $(\"<div/>\");\n",
       "\tvar oa = new OutputArea(_.extend(selector, {\n",
       "\t    selector: selector,\n",
       "\t    prompt_area: true,\n",
       "\t    events: IPython.events,\n",
       "\t    keyboard_manager: IPython.keyboard_manager\n",
       "\t})); // Hack to work with IPython 2.1.0\n",
       "\n",
       "\tswitch (type) {\n",
       "\tcase \"image/png\":\n",
       "            var _src = 'data:' + type + ';base64,' + val;\n",
       "\t    $(container).find(\"img\").attr('src', _src);\n",
       "\t    break;\n",
       "\tcase \"text/latex\":\n",
       "\t\tif (MathJax){\n",
       "\t\t\tvar math = MathJax.Hub.getAllJax(container)[0];\n",
       "\t\t\tMathJax.Hub.Queue([\"Text\", math, val.replace(/^\\${1,2}|\\${1,2}$/g, '')]);\n",
       "\t\t\tbreak;\n",
       "\t\t}\n",
       "\tdefault:\n",
       "\t    var toinsert = OutputArea.append_map[type].apply(\n",
       "\t\toa, [val, {}, selector]\n",
       "\t    );\n",
       "\t    $(container).empty().append(toinsert.contents());\n",
       "\t    selector.remove();\n",
       "\t}\n",
       "    }\n",
       "\n",
       "\n",
       "    $(document).ready(function() {\n",
       "\tfunction initComm(evt, data) {\n",
       "\t    var comm_manager = data.kernel.comm_manager;\n",
       "        //_.extend(comm_manager.targets, require(\"widgets/js/widget\"))\n",
       "\t    comm_manager.register_target(\"Signal\", function (comm) {\n",
       "            comm.on_msg(function (msg) {\n",
       "                var val = msg.content.data.value;\n",
       "                $(\".signal-\" + comm.comm_id).each(function() {\n",
       "                var type = $(this).data(\"type\");\n",
       "                if (typeof(val[type]) !== \"undefined\" && val[type] !== null) {\n",
       "                    redrawValue(this, type, val[type], type);\n",
       "                }\n",
       "                });\n",
       "                delete val;\n",
       "                delete msg.content.data.value;\n",
       "            });\n",
       "\t    });\n",
       "\n",
       "\t    // coordingate with Comm and redraw Signals\n",
       "\t    // XXX: Test using Reactive here to improve performance\n",
       "\t    $([IPython.events]).on(\n",
       "\t\t'output_appended.OutputArea', function (event, type, value, md, toinsert) {\n",
       "\t\t    if (md && md.reactive) {\n",
       "                // console.log(md.comm_id);\n",
       "                toinsert.addClass(\"signal-\" + md.comm_id);\n",
       "                toinsert.data(\"type\", type);\n",
       "                // Signal back indicating the mimetype required\n",
       "                var comm_manager = IPython.notebook.kernel.comm_manager;\n",
       "                var comm = comm_manager.comms[md.comm_id];\n",
       "                comm.then(function (c) {\n",
       "                    c.send({action: \"subscribe_mime\",\n",
       "                       mime: type});\n",
       "                    toinsert.bind(\"destroyed\", function() {\n",
       "                        c.send({action: \"unsubscribe_mime\",\n",
       "                               mime: type});\n",
       "                    });\n",
       "                })\n",
       "\t\t    }\n",
       "\t    });\n",
       "\t}\n",
       "\n",
       "\ttry {\n",
       "\t    // try to initialize right away. otherwise, wait on the status_started event.\n",
       "\t    initComm(undefined, IPython.notebook);\n",
       "\t} catch (e) {\n",
       "\t    $([IPython.events]).on('kernel_created.Kernel kernel_created.Session', initComm);\n",
       "\t}\n",
       "    });\n",
       "})(IPython, jQuery, _, MathJax);\n",
       "</script>\n",
       "    <script>\n",
       "        window.interactLoadedFlag = true\n",
       "       $(\"#interact-js-shim\").bind(\"destroyed\", function () {\n",
       "           if (window.interactLoadedFlag) {\n",
       "               console.warn(\"JavaScript required by Interact will be removed if you remove this cell or run using Interact more than once.\")\n",
       "           }\n",
       "       })\n",
       "       $([IPython.events]).on(\"kernel_starting.Kernel kernel_restarting.Kernel\", function () { window.interactLoadedFlag = false })\n",
       "   </script>\n",
       "</div>"
      ]
     },
     "metadata": {},
     "output_type": "display_data"
    },
    {
     "name": "stdout",
     "output_type": "stream",
     "text": [
      "Do you want load a previous simulation? Type yes or no and press enter.\n",
      "STDIN> no\n",
      "Would you like to save this simulation to a .mat file? Type yes or no and press enter.\n",
      "STDIN> no\n"
     ]
    },
    {
     "data": {
      "application/vnd.jupyter.widget-view+json": {
       "model_id": "76d0d925-5134-4b8d-b48f-0f8c5ed55b0d",
       "version_major": 2,
       "version_minor": 0
      }
     },
     "metadata": {},
     "output_type": "display_data"
    },
    {
     "data": {
      "text/html": [],
      "text/plain": [
       "Interact.Options{:ToggleButtons,String}(1: \"input\" = yes String , \"Hemorrhage\", \"yes\", \"yes\", 1, Interact.OptionDict(DataStructures.OrderedDict(\"yes\"=>\"yes\",\"no\"=>\"no\"), Dict(\"yes\"=>\"yes\",\"no\"=>\"no\")), Any[], Any[], true, \"horizontal\", true)"
      ]
     },
     "metadata": {},
     "output_type": "display_data"
    },
    {
     "data": {
      "application/vnd.jupyter.widget-view+json": {
       "model_id": "7abb2d34-cb05-4107-a857-00d0e1782982",
       "version_major": 2,
       "version_minor": 0
      }
     },
     "metadata": {},
     "output_type": "display_data"
    },
    {
     "data": {
      "text/html": [],
      "text/plain": [
       "Interact.Options{:SelectionSlider,Int64}(3: \"input-2\" = 5 Int64 , \"Heartbeats\", 5, \"5\", 5, Interact.OptionDict(DataStructures.OrderedDict(\"1\"=>1,\"2\"=>2,\"3\"=>3,\"4\"=>4,\"5\"=>5,\"6\"=>6,\"7\"=>7,\"8\"=>8,\"9\"=>9,\"10\"=>10…), Dict(7=>\"7\",4=>\"4\",9=>\"9\",10=>\"10\",2=>\"2\",3=>\"3\",5=>\"5\",8=>\"8\",6=>\"6\",1=>\"1\"…)), Any[], Any[], true, \"horizontal\", true)"
      ]
     },
     "metadata": {},
     "output_type": "display_data"
    },
    {
     "data": {
      "application/vnd.jupyter.widget-view+json": {
       "model_id": "e4adb313-9b31-4269-ab55-e989d9e90ee7",
       "version_major": 2,
       "version_minor": 0
      }
     },
     "metadata": {},
     "output_type": "display_data"
    },
    {
     "data": {
      "text/html": [],
      "text/plain": [
       "Interact.Options{:SelectionSlider,Int64}(5: \"input-3\" = 46 Int64 , \"Artery\", 46, \"46\", 46, Interact.OptionDict(DataStructures.OrderedDict(\"1\"=>1,\"2\"=>2,\"3\"=>3,\"4\"=>4,\"5\"=>5,\"6\"=>6,\"7\"=>7,\"8\"=>8,\"9\"=>9,\"10\"=>10…), Dict(68=>\"68\",2=>\"2\",89=>\"89\",11=>\"11\",39=>\"39\",46=>\"46\",85=>\"85\",25=>\"25\",55=>\"55\",42=>\"42\"…)), Any[], Any[], true, \"horizontal\", true)"
      ]
     },
     "metadata": {},
     "output_type": "display_data"
    },
    {
     "data": {
      "application/vnd.jupyter.widget-view+json": {
       "model_id": "4c7ef8a4-2c8e-4ba9-81a7-3e9b9dc0e715",
       "version_major": 2,
       "version_minor": 0
      }
     },
     "metadata": {},
     "output_type": "display_data"
    },
    {
     "data": {
      "text/html": [],
      "text/plain": [
       "Interact.Options{:ToggleButtons,String}(8: \"input-4\" = no String , \"Ready\", \"no\", \"no\", 1, Interact.OptionDict(DataStructures.OrderedDict(\"no\"=>\"no\",\"yes\"=>\"yes\"), Dict(\"yes\"=>\"yes\",\"no\"=>\"no\")), Any[], Any[], true, \"horizontal\", true)"
      ]
     },
     "metadata": {},
     "output_type": "display_data"
    },
    {
     "name": "stdout",
     "output_type": "stream",
     "text": [
      "hemoflag = no\n",
      "numcycles = 1\n",
      "selector = 2\n",
      "savefile = run1.mat\n",
      "Number of nodes per branch: "
     ]
    }
   ],
   "source": [
    "include(\"vascularmain.jl\")                      #Inclues all the functions of the simulation\n",
    "using Reactive, Interact\n",
    "\n",
    "\n",
    "println(\"Do you want load a previous simulation? Type yes or no and press enter.\")\n",
    "rstflag = string(readline(STDIN))\n",
    "if rstflag == \"yes\"\n",
    "    println(\"Type the name of your load file and press enter.\")\n",
    "    loadfile = string(readline(STDIN)); #User has to input the nanome of a saved file in src\n",
    "elseif rstflag == \"no\"\n",
    "    loadfile = \"arterytree.csv\"; # default artery data file for new simulation\n",
    "else\n",
    "    warn(\"Restart option must be set to yes or no. Defaulting to no.\")    #In case the user enters something other than \"yes\" or \"no\" this will automatically set rstflag to \"no\"\n",
    "    rstflag = \"no\"\n",
    "    loadfile = \"arterytree.csv\"\n",
    "end\n",
    "\n",
    "println(\"Would you like to save this simulation to a .mat file? Type yes or no and press enter.\")\n",
    "saveflag = string(readline(STDIN)) #Allows user to save a simulation or not.\n",
    "\n",
    "if saveflag == \"yes\"\n",
    "    println(\"Name your file and add a .mat at the end of it and press enter.\")\n",
    "    savefile = string(readline(STDIN)) #user has to enter a name for which they would like to save a file as but must add .mat to its end\n",
    "#     println(\"All inputs have been selected, simulation starting.\")\n",
    "#     sys,n,t=main(hemoflag,rstflag,loadfile,saveflag,numcycles,selector,savefile) #This is the function call to the definitions in vascularmain.jl\n",
    "elseif saveflag == \"no\"\n",
    "#     println(\"All inputs have been selected, simulation starting.\")\n",
    "#     sys,n,t=main(hemoflag,rstflag,loadfile,saveflag,numcycles,selector)\n",
    "else\n",
    "    warn(\"Save option must be set to yes or no. Defaulting to no.\")\n",
    "    saveflag = \"no\"\n",
    "#     println(\"All inputs have been selected, simulation starting.\")\n",
    "#     sys,n,t=main(hemoflag,rstflag,loadfile,saveflag,numcycles,selector)\n",
    "end\n",
    "\n",
    "\n",
    "# println( \"Do you want to simulate a hemorrhage?\")\n",
    "# hemoflag = string(readline(STDIN))\n",
    "\n",
    "@manipulate for Hemorrhage = [\"yes\",\"no\"], Heartbeats = 1:10, Artery = 1:91\n",
    "    global hemoflag = Hemorrhage;\n",
    "#     global saveflag = Save;\n",
    "    global numcycles = Heartbeats;\n",
    "    global selector = Artery;\n",
    "#     global rstflag = Restart;\n",
    "     global savefile = \"run1.mat\";\n",
    "#     global loadfile = \"arterytree.csv\";\n",
    "end\n",
    "\n",
    "@manipulate for Ready = [\"no\",\"yes\"]\n",
    "    sys = [];\n",
    "    n = 0;\n",
    "    t = [];\n",
    "    if Ready == \"yes\"\n",
    "        println(\"hemoflag = $hemoflag\")\n",
    "#         println(\"rstflag = $rstflag\")\n",
    "#         println(\"loadfile = $loadfile\")\n",
    "#         println(\"saveflag = $saveflag\")\n",
    "        println(\"numcycles = $numcycles\")\n",
    "        println(\"selector = $selector\")\n",
    "        println(\"savefile = $savefile\")\n",
    "        sys,n,t = main(hemoflag,rstflag,loadfile,saveflag,numcycles,selector,savefile);\n",
    "    end\n",
    "end\n",
    "\n",
    "# println(\"please click the text box and press enter.\")\n",
    "# readline(STDIN)\n",
    "\n",
    "# println(\"Type an integer value of heartbeats you would like to simulate.\")\n",
    "# numcycles = parse(Int64,readline(STDIN)) #Allows the user to enter the number of heartbeats that they would like to simulate\n",
    "# println(\"Simulation set to run for $(numcycles) heartbeats.\")\n",
    "\n",
    "# println(\"Which artery would you like to simulate a hemorrhage? Type a number between 1-91, refer to the image for each artery.\")\n",
    "# selector = parse(Int64,readline(STDIN))\n",
    "# if selector < 1\n",
    "#     warn(\"Cannot choose an integer less than 1, please select a value between 1-91.\")\n",
    "#     selector = parse(Int64,readline(STDIN))\n",
    "# elseif selector > 91\n",
    "#     warn(\"Cannot choose an integer greater than 91, please select a value between 1-91.\")\n",
    "#     selector = parse(Int64,readline(STDIN))\n",
    "# end\n",
    "\n",
    "# println(\"Would you like to save this simulation to a .mat file? Type yes or no and press enter.\")\n",
    "# saveflag = string(readline(STDIN)) #Allows user to save a simulation or not.\n",
    "\n",
    "# if saveflag == \"yes\"\n",
    "#     println(\"Name your file and add a .mat at the end of it and press enter.\")\n",
    "#     savefile = string(readline(STDIN)) #user has to enter a name for which they would like to save a file as but must add .mat to its end\n",
    "#     println(\"All inputs have been selected, simulation starting.\")\n",
    "#     sys,n,t=main(hemoflag,rstflag,loadfile,saveflag,numcycles,selector,savefile) #This is the function call to the definitions in vascularmain.jl\n",
    "# elseif saveflag == \"no\"\n",
    "#     println(\"All inputs have been selected, simulation starting.\")\n",
    "#     sys,n,t=main(hemoflag,rstflag,loadfile,saveflag,numcycles,selector)\n",
    "# else\n",
    "#     warn(\"Save option must be set to yes or no. Defaulting to no.\")\n",
    "#     saveflag = \"no\"\n",
    "#     println(\"All inputs have been selected, simulation starting.\")\n",
    "#     sys,n,t=main(hemoflag,rstflag,loadfile,saveflag,numcycles,selector)\n",
    "# end\n",
    "\n",
    "# using Plots                                  #This is the command that calls the Plots package which gives a graphical representation of what is happening\n",
    "\n",
    "# x = sys.t; y = sys.branches.P[61][1,:];         #Delcares the variables that we are interested in, time and pressure within the left brachial artery\n"
   ]
  },
  {
   "cell_type": "code",
   "execution_count": null,
   "metadata": {},
   "outputs": [],
   "source": [
    "include(\"vascularmain.jl\")\n",
    "using Plots\n",
    "\n",
    "println(\"Choose an artery you would like to see hemorrhage data for.\")\n",
    "x = sys.t; y = sys.branches.P[61][1,:];\n",
    "# y = sys.heart.lv.P[:]; rv, la, ra \n",
    "plot(x,y)"
   ]
  },
  {
   "cell_type": "code",
   "execution_count": null,
   "metadata": {},
   "outputs": [],
   "source": [
    "Pkg.rm(\"Widgets.jl\")"
   ]
  },
  {
   "cell_type": "code",
   "execution_count": null,
   "metadata": {
    "scrolled": true
   },
   "outputs": [],
   "source": [
    "using Observables\n",
    "using Widgets\n",
    "using InteractUIkit\n",
    "\n",
    "\n",
    "ui = button()\n",
    "display(ui)\n",
    "obs = Widgets.observe(ui)\n",
    "println(typeof(ui))\n",
    "println(typeof(obs))\n",
    "println(obs[])\n"
   ]
  },
  {
   "cell_type": "code",
   "execution_count": null,
   "metadata": {},
   "outputs": [],
   "source": [
    "using Reactive, Interact\n",
    "\n",
    "a = dropdown([\"select\", \"yes\", \"no\"])"
   ]
  },
  {
   "cell_type": "code",
   "execution_count": null,
   "metadata": {},
   "outputs": [],
   "source": [
    "using Reactive, Interact\n",
    "\n",
    "\n",
    "a = dropdown([\"yes\", \"no\"], label = \"bird up\")\n",
    "display(a)\n",
    "\n",
    "if \n",
    "\n"
   ]
  },
  {
   "cell_type": "code",
   "execution_count": null,
   "metadata": {},
   "outputs": [],
   "source": [
    "if value == \"no\"\n",
    "    value = \"no\"\n",
    "    println(\"you did it!\")\n",
    "end"
   ]
  },
  {
   "cell_type": "code",
   "execution_count": null,
   "metadata": {},
   "outputs": [],
   "source": [
    "using Reactive, Interact\n",
    "\n",
    "# s = widget([\"on\",\"off\"])\n",
    "# display(s)\n",
    "hemoflag = true;\n",
    "\n",
    "@manipulate for Hemorrhage = [\"yes\",\"no\"]\n",
    "    if Hemorrhage == \"yes\"\n",
    "        println(\"stop\")\n",
    "        hemoflag == true\n",
    "    elseif Hemorrhage == \"no\"\n",
    "        println(\"que lastima\")\n",
    "        hemoflag == false\n",
    "    end\n",
    "#     if Done == true\n",
    "#         break\n",
    "#     end\n",
    "end\n",
    "\n",
    "readline(STDIN)\n",
    "\n",
    "println(\"All options selected. Hemorrhage = $hemoflag.\")\n"
   ]
  },
  {
   "cell_type": "code",
   "execution_count": null,
   "metadata": {},
   "outputs": [],
   "source": [
    "a = dropdown([\"one\", \"two\", \"three\"])\n",
    "display(a)\n",
    "\n",
    "\n",
    "if value(signal(a)) == \"one\"\n",
    "    println(\"test\")\n",
    "elseif value(signal(a)) == \"two\"\n",
    "    println(\"testing\")\n",
    "    else value(signal(a)) == \"three\"\n",
    "    println(\"still testing\")\n",
    "end"
   ]
  },
  {
   "cell_type": "code",
   "execution_count": null,
   "metadata": {},
   "outputs": [],
   "source": []
  }
 ],
 "metadata": {
  "kernelspec": {
   "display_name": "Julia 0.6.3",
   "language": "julia",
   "name": "julia-0.6"
  },
  "language_info": {
   "file_extension": ".jl",
   "mimetype": "application/julia",
   "name": "julia",
   "version": "0.6.3"
  }
 },
 "nbformat": 4,
 "nbformat_minor": 2
}
